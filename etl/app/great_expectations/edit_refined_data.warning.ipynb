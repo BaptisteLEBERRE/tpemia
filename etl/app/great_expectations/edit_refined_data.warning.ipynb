{
 "cells": [
  {
   "cell_type": "markdown",
   "id": "82c88920",
   "metadata": {},
   "source": [
    "# Edit Your Expectation Suite\n",
    "Use this notebook to recreate and modify your expectation suite:\n",
    "\n",
    "**Expectation Suite Name**: `refined_data.warning`\n",
    "\n",
    "We'd love it if you **reach out to us on** the [**Great Expectations Slack Channel**](https://greatexpectations.io/slack)"
   ]
  },
  {
   "cell_type": "code",
   "execution_count": 1,
   "id": "24b6657e",
   "metadata": {},
   "outputs": [
    {
     "name": "stdout",
     "output_type": "stream",
     "text": [
      "Requirement already satisfied: great_expectations in /home/jmp/anaconda3/envs/emia2021/lib/python3.7/site-packages (0.13.13)\n",
      "Requirement already satisfied: Click>=7.1.2 in /home/jmp/anaconda3/envs/emia2021/lib/python3.7/site-packages (from great_expectations) (7.1.2)\n",
      "Requirement already satisfied: mistune>=0.8.4 in /home/jmp/anaconda3/envs/emia2021/lib/python3.7/site-packages (from great_expectations) (0.8.4)\n",
      "Requirement already satisfied: termcolor>=1.1.0 in /home/jmp/anaconda3/envs/emia2021/lib/python3.7/site-packages (from great_expectations) (1.1.0)\n",
      "Requirement already satisfied: ruamel.yaml>=0.16 in /home/jmp/anaconda3/envs/emia2021/lib/python3.7/site-packages (from great_expectations) (0.16.13)\n",
      "Requirement already satisfied: python-dateutil>=2.8.1 in /home/jmp/anaconda3/envs/emia2021/lib/python3.7/site-packages (from great_expectations) (2.8.2)\n",
      "Requirement already satisfied: jinja2>=2.10 in /home/jmp/anaconda3/envs/emia2021/lib/python3.7/site-packages (from great_expectations) (3.0.2)\n",
      "Requirement already satisfied: scipy>=0.19.0 in /home/jmp/anaconda3/envs/emia2021/lib/python3.7/site-packages (from great_expectations) (1.6.1)\n",
      "Requirement already satisfied: altair<5,>=4.0.0 in /home/jmp/anaconda3/envs/emia2021/lib/python3.7/site-packages (from great_expectations) (4.1.0)\n",
      "Requirement already satisfied: numpy<1.20.0,>=1.14.1 in /home/jmp/anaconda3/envs/emia2021/lib/python3.7/site-packages (from great_expectations) (1.19.5)\n",
      "Requirement already satisfied: requests>=2.20 in /home/jmp/anaconda3/envs/emia2021/lib/python3.7/site-packages (from great_expectations) (2.25.1)\n",
      "Requirement already satisfied: importlib-metadata>=1.7.0 in /home/jmp/anaconda3/envs/emia2021/lib/python3.7/site-packages (from great_expectations) (4.8.1)\n",
      "Requirement already satisfied: jsonschema>=2.5.1 in /home/jmp/anaconda3/envs/emia2021/lib/python3.7/site-packages (from great_expectations) (3.2.0)\n",
      "Requirement already satisfied: pytz>=2015.6 in /home/jmp/anaconda3/envs/emia2021/lib/python3.7/site-packages (from great_expectations) (2021.1)\n",
      "Requirement already satisfied: pyparsing<3,>=2.4 in /home/jmp/anaconda3/envs/emia2021/lib/python3.7/site-packages (from great_expectations) (2.4.7)\n",
      "Requirement already satisfied: tzlocal>=1.2 in /home/jmp/anaconda3/envs/emia2021/lib/python3.7/site-packages (from great_expectations) (2.1)\n",
      "Requirement already satisfied: jsonpatch>=1.22 in /home/jmp/anaconda3/envs/emia2021/lib/python3.7/site-packages (from great_expectations) (1.32)\n",
      "Requirement already satisfied: ipywidgets>=7.5.1 in /home/jmp/anaconda3/envs/emia2021/lib/python3.7/site-packages (from great_expectations) (7.6.5)\n",
      "Requirement already satisfied: pandas>=0.23.0 in /home/jmp/anaconda3/envs/emia2021/lib/python3.7/site-packages (from great_expectations) (1.2.3)\n",
      "Requirement already satisfied: toolz in /home/jmp/anaconda3/envs/emia2021/lib/python3.7/site-packages (from altair<5,>=4.0.0->great_expectations) (0.11.1)\n",
      "Requirement already satisfied: entrypoints in /home/jmp/anaconda3/envs/emia2021/lib/python3.7/site-packages (from altair<5,>=4.0.0->great_expectations) (0.3)\n",
      "Requirement already satisfied: zipp>=0.5 in /home/jmp/anaconda3/envs/emia2021/lib/python3.7/site-packages (from importlib-metadata>=1.7.0->great_expectations) (3.6.0)\n",
      "Requirement already satisfied: typing-extensions>=3.6.4 in /home/jmp/anaconda3/envs/emia2021/lib/python3.7/site-packages (from importlib-metadata>=1.7.0->great_expectations) (3.10.0.2)\n",
      "Requirement already satisfied: traitlets>=4.3.1 in /home/jmp/anaconda3/envs/emia2021/lib/python3.7/site-packages (from ipywidgets>=7.5.1->great_expectations) (5.1.0)\n",
      "Requirement already satisfied: nbformat>=4.2.0 in /home/jmp/anaconda3/envs/emia2021/lib/python3.7/site-packages (from ipywidgets>=7.5.1->great_expectations) (5.1.3)\n",
      "Requirement already satisfied: ipython>=4.0.0 in /home/jmp/anaconda3/envs/emia2021/lib/python3.7/site-packages (from ipywidgets>=7.5.1->great_expectations) (7.29.0)\n",
      "Requirement already satisfied: ipykernel>=4.5.1 in /home/jmp/anaconda3/envs/emia2021/lib/python3.7/site-packages (from ipywidgets>=7.5.1->great_expectations) (6.4.1)\n",
      "Requirement already satisfied: ipython-genutils~=0.2.0 in /home/jmp/anaconda3/envs/emia2021/lib/python3.7/site-packages (from ipywidgets>=7.5.1->great_expectations) (0.2.0)\n",
      "Requirement already satisfied: jupyterlab-widgets>=1.0.0 in /home/jmp/anaconda3/envs/emia2021/lib/python3.7/site-packages (from ipywidgets>=7.5.1->great_expectations) (1.0.0)\n",
      "Requirement already satisfied: widgetsnbextension~=3.5.0 in /home/jmp/anaconda3/envs/emia2021/lib/python3.7/site-packages (from ipywidgets>=7.5.1->great_expectations) (3.5.1)\n",
      "Requirement already satisfied: matplotlib-inline<0.2.0,>=0.1.0 in /home/jmp/anaconda3/envs/emia2021/lib/python3.7/site-packages (from ipykernel>=4.5.1->ipywidgets>=7.5.1->great_expectations) (0.1.2)\n",
      "Requirement already satisfied: debugpy<2.0,>=1.0.0 in /home/jmp/anaconda3/envs/emia2021/lib/python3.7/site-packages (from ipykernel>=4.5.1->ipywidgets>=7.5.1->great_expectations) (1.4.1)\n",
      "Requirement already satisfied: argcomplete>=1.12.3 in /home/jmp/anaconda3/envs/emia2021/lib/python3.7/site-packages (from ipykernel>=4.5.1->ipywidgets>=7.5.1->great_expectations) (1.12.3)\n",
      "Requirement already satisfied: jupyter-client<8.0 in /home/jmp/anaconda3/envs/emia2021/lib/python3.7/site-packages (from ipykernel>=4.5.1->ipywidgets>=7.5.1->great_expectations) (7.0.1)\n",
      "Requirement already satisfied: tornado<7.0,>=4.2 in /home/jmp/anaconda3/envs/emia2021/lib/python3.7/site-packages (from ipykernel>=4.5.1->ipywidgets>=7.5.1->great_expectations) (6.1)\n",
      "Requirement already satisfied: setuptools>=18.5 in /home/jmp/anaconda3/envs/emia2021/lib/python3.7/site-packages (from ipython>=4.0.0->ipywidgets>=7.5.1->great_expectations) (58.0.4)\n",
      "Requirement already satisfied: decorator in /home/jmp/anaconda3/envs/emia2021/lib/python3.7/site-packages (from ipython>=4.0.0->ipywidgets>=7.5.1->great_expectations) (5.1.0)\n",
      "Requirement already satisfied: pygments in /home/jmp/anaconda3/envs/emia2021/lib/python3.7/site-packages (from ipython>=4.0.0->ipywidgets>=7.5.1->great_expectations) (2.10.0)\n",
      "Requirement already satisfied: backcall in /home/jmp/anaconda3/envs/emia2021/lib/python3.7/site-packages (from ipython>=4.0.0->ipywidgets>=7.5.1->great_expectations) (0.2.0)\n",
      "Requirement already satisfied: jedi>=0.16 in /home/jmp/anaconda3/envs/emia2021/lib/python3.7/site-packages (from ipython>=4.0.0->ipywidgets>=7.5.1->great_expectations) (0.18.0)\n",
      "Requirement already satisfied: pexpect>4.3 in /home/jmp/anaconda3/envs/emia2021/lib/python3.7/site-packages (from ipython>=4.0.0->ipywidgets>=7.5.1->great_expectations) (4.8.0)\n",
      "Requirement already satisfied: pickleshare in /home/jmp/anaconda3/envs/emia2021/lib/python3.7/site-packages (from ipython>=4.0.0->ipywidgets>=7.5.1->great_expectations) (0.7.5)\n",
      "Requirement already satisfied: prompt-toolkit!=3.0.0,!=3.0.1,<3.1.0,>=2.0.0 in /home/jmp/anaconda3/envs/emia2021/lib/python3.7/site-packages (from ipython>=4.0.0->ipywidgets>=7.5.1->great_expectations) (3.0.20)\n",
      "Requirement already satisfied: parso<0.9.0,>=0.8.0 in /home/jmp/anaconda3/envs/emia2021/lib/python3.7/site-packages (from jedi>=0.16->ipython>=4.0.0->ipywidgets>=7.5.1->great_expectations) (0.8.2)\n",
      "Requirement already satisfied: MarkupSafe>=2.0 in /home/jmp/anaconda3/envs/emia2021/lib/python3.7/site-packages (from jinja2>=2.10->great_expectations) (2.0.1)\n",
      "Requirement already satisfied: jsonpointer>=1.9 in /home/jmp/anaconda3/envs/emia2021/lib/python3.7/site-packages (from jsonpatch>=1.22->great_expectations) (2.1)\n",
      "Requirement already satisfied: attrs>=17.4.0 in /home/jmp/anaconda3/envs/emia2021/lib/python3.7/site-packages (from jsonschema>=2.5.1->great_expectations) (21.2.0)\n",
      "Requirement already satisfied: pyrsistent>=0.14.0 in /home/jmp/anaconda3/envs/emia2021/lib/python3.7/site-packages (from jsonschema>=2.5.1->great_expectations) (0.18.0)\n",
      "Requirement already satisfied: six>=1.11.0 in /home/jmp/anaconda3/envs/emia2021/lib/python3.7/site-packages (from jsonschema>=2.5.1->great_expectations) (1.16.0)\n",
      "Requirement already satisfied: nest-asyncio>=1.5 in /home/jmp/anaconda3/envs/emia2021/lib/python3.7/site-packages (from jupyter-client<8.0->ipykernel>=4.5.1->ipywidgets>=7.5.1->great_expectations) (1.5.1)\n",
      "Requirement already satisfied: pyzmq>=13 in /home/jmp/anaconda3/envs/emia2021/lib/python3.7/site-packages (from jupyter-client<8.0->ipykernel>=4.5.1->ipywidgets>=7.5.1->great_expectations) (22.2.1)\n",
      "Requirement already satisfied: jupyter-core>=4.6.0 in /home/jmp/anaconda3/envs/emia2021/lib/python3.7/site-packages (from jupyter-client<8.0->ipykernel>=4.5.1->ipywidgets>=7.5.1->great_expectations) (4.9.1)\n",
      "Requirement already satisfied: ptyprocess>=0.5 in /home/jmp/anaconda3/envs/emia2021/lib/python3.7/site-packages (from pexpect>4.3->ipython>=4.0.0->ipywidgets>=7.5.1->great_expectations) (0.7.0)\n",
      "Requirement already satisfied: wcwidth in /home/jmp/anaconda3/envs/emia2021/lib/python3.7/site-packages (from prompt-toolkit!=3.0.0,!=3.0.1,<3.1.0,>=2.0.0->ipython>=4.0.0->ipywidgets>=7.5.1->great_expectations) (0.2.5)\n"
     ]
    },
    {
     "name": "stdout",
     "output_type": "stream",
     "text": [
      "Requirement already satisfied: urllib3<1.27,>=1.21.1 in /home/jmp/anaconda3/envs/emia2021/lib/python3.7/site-packages (from requests>=2.20->great_expectations) (1.26.3)\n",
      "Requirement already satisfied: certifi>=2017.4.17 in /home/jmp/anaconda3/envs/emia2021/lib/python3.7/site-packages (from requests>=2.20->great_expectations) (2021.10.8)\n",
      "Requirement already satisfied: idna<3,>=2.5 in /home/jmp/anaconda3/envs/emia2021/lib/python3.7/site-packages (from requests>=2.20->great_expectations) (2.10)\n",
      "Requirement already satisfied: chardet<5,>=3.0.2 in /home/jmp/anaconda3/envs/emia2021/lib/python3.7/site-packages (from requests>=2.20->great_expectations) (4.0.0)\n",
      "Requirement already satisfied: ruamel.yaml.clib>=0.1.2 in /home/jmp/anaconda3/envs/emia2021/lib/python3.7/site-packages (from ruamel.yaml>=0.16->great_expectations) (0.2.2)\n",
      "Requirement already satisfied: notebook>=4.4.1 in /home/jmp/anaconda3/envs/emia2021/lib/python3.7/site-packages (from widgetsnbextension~=3.5.0->ipywidgets>=7.5.1->great_expectations) (6.4.5)\n",
      "Requirement already satisfied: argon2-cffi in /home/jmp/anaconda3/envs/emia2021/lib/python3.7/site-packages (from notebook>=4.4.1->widgetsnbextension~=3.5.0->ipywidgets>=7.5.1->great_expectations) (20.1.0)\n",
      "Requirement already satisfied: prometheus-client in /home/jmp/anaconda3/envs/emia2021/lib/python3.7/site-packages (from notebook>=4.4.1->widgetsnbextension~=3.5.0->ipywidgets>=7.5.1->great_expectations) (0.11.0)\n",
      "Requirement already satisfied: Send2Trash>=1.5.0 in /home/jmp/anaconda3/envs/emia2021/lib/python3.7/site-packages (from notebook>=4.4.1->widgetsnbextension~=3.5.0->ipywidgets>=7.5.1->great_expectations) (1.8.0)\n",
      "Requirement already satisfied: terminado>=0.8.3 in /home/jmp/anaconda3/envs/emia2021/lib/python3.7/site-packages (from notebook>=4.4.1->widgetsnbextension~=3.5.0->ipywidgets>=7.5.1->great_expectations) (0.9.4)\n",
      "Requirement already satisfied: nbconvert in /home/jmp/anaconda3/envs/emia2021/lib/python3.7/site-packages (from notebook>=4.4.1->widgetsnbextension~=3.5.0->ipywidgets>=7.5.1->great_expectations) (6.1.0)\n",
      "Requirement already satisfied: cffi>=1.0.0 in /home/jmp/anaconda3/envs/emia2021/lib/python3.7/site-packages (from argon2-cffi->notebook>=4.4.1->widgetsnbextension~=3.5.0->ipywidgets>=7.5.1->great_expectations) (1.14.5)\n",
      "Requirement already satisfied: pycparser in /home/jmp/anaconda3/envs/emia2021/lib/python3.7/site-packages (from cffi>=1.0.0->argon2-cffi->notebook>=4.4.1->widgetsnbextension~=3.5.0->ipywidgets>=7.5.1->great_expectations) (2.21)\n",
      "Requirement already satisfied: bleach in /home/jmp/anaconda3/envs/emia2021/lib/python3.7/site-packages (from nbconvert->notebook>=4.4.1->widgetsnbextension~=3.5.0->ipywidgets>=7.5.1->great_expectations) (4.0.0)\n",
      "Requirement already satisfied: pandocfilters>=1.4.1 in /home/jmp/anaconda3/envs/emia2021/lib/python3.7/site-packages (from nbconvert->notebook>=4.4.1->widgetsnbextension~=3.5.0->ipywidgets>=7.5.1->great_expectations) (1.4.3)\n",
      "Requirement already satisfied: jupyterlab-pygments in /home/jmp/anaconda3/envs/emia2021/lib/python3.7/site-packages (from nbconvert->notebook>=4.4.1->widgetsnbextension~=3.5.0->ipywidgets>=7.5.1->great_expectations) (0.1.2)\n",
      "Requirement already satisfied: defusedxml in /home/jmp/anaconda3/envs/emia2021/lib/python3.7/site-packages (from nbconvert->notebook>=4.4.1->widgetsnbextension~=3.5.0->ipywidgets>=7.5.1->great_expectations) (0.7.1)\n",
      "Requirement already satisfied: nbclient<0.6.0,>=0.5.0 in /home/jmp/anaconda3/envs/emia2021/lib/python3.7/site-packages (from nbconvert->notebook>=4.4.1->widgetsnbextension~=3.5.0->ipywidgets>=7.5.1->great_expectations) (0.5.3)\n",
      "Requirement already satisfied: testpath in /home/jmp/anaconda3/envs/emia2021/lib/python3.7/site-packages (from nbconvert->notebook>=4.4.1->widgetsnbextension~=3.5.0->ipywidgets>=7.5.1->great_expectations) (0.5.0)\n",
      "Requirement already satisfied: async-generator in /home/jmp/anaconda3/envs/emia2021/lib/python3.7/site-packages (from nbclient<0.6.0,>=0.5.0->nbconvert->notebook>=4.4.1->widgetsnbextension~=3.5.0->ipywidgets>=7.5.1->great_expectations) (1.10)\n",
      "Requirement already satisfied: webencodings in /home/jmp/anaconda3/envs/emia2021/lib/python3.7/site-packages (from bleach->nbconvert->notebook>=4.4.1->widgetsnbextension~=3.5.0->ipywidgets>=7.5.1->great_expectations) (0.5.1)\n",
      "Requirement already satisfied: packaging in /home/jmp/anaconda3/envs/emia2021/lib/python3.7/site-packages (from bleach->nbconvert->notebook>=4.4.1->widgetsnbextension~=3.5.0->ipywidgets>=7.5.1->great_expectations) (21.0)\n"
     ]
    }
   ],
   "source": [
    "!pip install great_expectations"
   ]
  },
  {
   "cell_type": "code",
   "execution_count": 1,
   "id": "4afb8b01",
   "metadata": {},
   "outputs": [
    {
     "name": "stdout",
     "output_type": "stream",
     "text": [
      "2021-11-13T23:47:46+0100 - INFO - Great Expectations logging enabled at 20 level by JupyterUX module.\n"
     ]
    },
    {
     "ename": "PermissionError",
    "output_type": "error",
     "traceback": [
      "\u001b[0;31m---------------------------------------------------------------------------\u001b[0m",
      "\u001b[0;31mPermissionError\u001b[0m                           Traceback (most recent call last)",
      "\u001b[0;32m/tmp/ipykernel_14560/1369664754.py\u001b[0m in \u001b[0;36m<module>\u001b[0;34m\u001b[0m\n\u001b[1;32m     11\u001b[0m \u001b[0mexpectation_suite_name\u001b[0m \u001b[0;34m=\u001b[0m \u001b[0;34m\"refined_data.warning\"\u001b[0m\u001b[0;34m\u001b[0m\u001b[0;34m\u001b[0m\u001b[0m\n\u001b[1;32m     12\u001b[0m suite = context.create_expectation_suite(\n\u001b[0;32m---> 13\u001b[0;31m     \u001b[0mexpectation_suite_name\u001b[0m\u001b[0;34m,\u001b[0m \u001b[0moverwrite_existing\u001b[0m\u001b[0;34m=\u001b[0m\u001b[0;32mTrue\u001b[0m\u001b[0;34m\u001b[0m\u001b[0;34m\u001b[0m\u001b[0m\n\u001b[0m\u001b[1;32m     14\u001b[0m )\n\u001b[1;32m     15\u001b[0m \u001b[0;34m\u001b[0m\u001b[0m\n",
      "\u001b[0;32m~/anaconda3/envs/emia2021/lib/python3.7/site-packages/great_expectations/data_context/data_context.py\u001b[0m in \u001b[0;36mcreate_expectation_suite\u001b[0;34m(self, expectation_suite_name, overwrite_existing)\u001b[0m\n\u001b[1;32m   1949\u001b[0m             )\n\u001b[1;32m   1950\u001b[0m         \u001b[0;32melse\u001b[0m\u001b[0;34m:\u001b[0m\u001b[0;34m\u001b[0m\u001b[0;34m\u001b[0m\u001b[0m\n\u001b[0;32m-> 1951\u001b[0;31m             \u001b[0mself\u001b[0m\u001b[0;34m.\u001b[0m\u001b[0mexpectations_store\u001b[0m\u001b[0;34m.\u001b[0m\u001b[0mset\u001b[0m\u001b[0;34m(\u001b[0m\u001b[0mkey\u001b[0m\u001b[0;34m,\u001b[0m \u001b[0mexpectation_suite\u001b[0m\u001b[0;34m)\u001b[0m\u001b[0;34m\u001b[0m\u001b[0;34m\u001b[0m\u001b[0m\n\u001b[0m\u001b[1;32m   1952\u001b[0m \u001b[0;34m\u001b[0m\u001b[0m\n\u001b[1;32m   1953\u001b[0m         \u001b[0;32mreturn\u001b[0m \u001b[0mexpectation_suite\u001b[0m\u001b[0;34m\u001b[0m\u001b[0;34m\u001b[0m\u001b[0m\n",
      "\u001b[0;32m~/anaconda3/envs/emia2021/lib/python3.7/site-packages/great_expectations/data_context/store/store.py\u001b[0m in \u001b[0;36mset\u001b[0;34m(self, key, value)\u001b[0m\n\u001b[1;32m    131\u001b[0m             \u001b[0mself\u001b[0m\u001b[0;34m.\u001b[0m\u001b[0m_validate_key\u001b[0m\u001b[0;34m(\u001b[0m\u001b[0mkey\u001b[0m\u001b[0;34m)\u001b[0m\u001b[0;34m\u001b[0m\u001b[0;34m\u001b[0m\u001b[0m\n\u001b[1;32m    132\u001b[0m             return self._store_backend.set(\n\u001b[0;32m--> 133\u001b[0;31m                 \u001b[0mself\u001b[0m\u001b[0;34m.\u001b[0m\u001b[0mkey_to_tuple\u001b[0m\u001b[0;34m(\u001b[0m\u001b[0mkey\u001b[0m\u001b[0;34m)\u001b[0m\u001b[0;34m,\u001b[0m \u001b[0mself\u001b[0m\u001b[0;34m.\u001b[0m\u001b[0mserialize\u001b[0m\u001b[0;34m(\u001b[0m\u001b[0mkey\u001b[0m\u001b[0;34m,\u001b[0m \u001b[0mvalue\u001b[0m\u001b[0;34m)\u001b[0m\u001b[0;34m\u001b[0m\u001b[0;34m\u001b[0m\u001b[0m\n\u001b[0m\u001b[1;32m    134\u001b[0m             )\n\u001b[1;32m    135\u001b[0m \u001b[0;34m\u001b[0m\u001b[0m\n",
      "\u001b[0;32m~/anaconda3/envs/emia2021/lib/python3.7/site-packages/great_expectations/data_context/store/store_backend.py\u001b[0m in \u001b[0;36mset\u001b[0;34m(self, key, value, **kwargs)\u001b[0m\n\u001b[1;32m    118\u001b[0m         \u001b[0;31m# Allow the implementing setter to return something (e.g. a path used for its key)\u001b[0m\u001b[0;34m\u001b[0m\u001b[0;34m\u001b[0m\u001b[0;34m\u001b[0m\u001b[0m\n\u001b[1;32m    119\u001b[0m         \u001b[0;32mtry\u001b[0m\u001b[0;34m:\u001b[0m\u001b[0;34m\u001b[0m\u001b[0;34m\u001b[0m\u001b[0m\n\u001b[0;32m--> 120\u001b[0;31m             \u001b[0;32mreturn\u001b[0m \u001b[0mself\u001b[0m\u001b[0;34m.\u001b[0m\u001b[0m_set\u001b[0m\u001b[0;34m(\u001b[0m\u001b[0mkey\u001b[0m\u001b[0;34m,\u001b[0m \u001b[0mvalue\u001b[0m\u001b[0;34m,\u001b[0m \u001b[0;34m**\u001b[0m\u001b[0mkwargs\u001b[0m\u001b[0;34m)\u001b[0m\u001b[0;34m\u001b[0m\u001b[0;34m\u001b[0m\u001b[0m\n\u001b[0m\u001b[1;32m    121\u001b[0m         \u001b[0;32mexcept\u001b[0m \u001b[0mValueError\u001b[0m \u001b[0;32mas\u001b[0m \u001b[0me\u001b[0m\u001b[0;34m:\u001b[0m\u001b[0;34m\u001b[0m\u001b[0;34m\u001b[0m\u001b[0m\n\u001b[1;32m    122\u001b[0m             \u001b[0mlogger\u001b[0m\u001b[0;34m.\u001b[0m\u001b[0mdebug\u001b[0m\u001b[0;34m(\u001b[0m\u001b[0mstr\u001b[0m\u001b[0;34m(\u001b[0m\u001b[0me\u001b[0m\u001b[0;34m)\u001b[0m\u001b[0;34m)\u001b[0m\u001b[0;34m\u001b[0m\u001b[0;34m\u001b[0m\u001b[0m\n",
      "\u001b[0;32m~/anaconda3/envs/emia2021/lib/python3.7/site-packages/great_expectations/data_context/store/tuple_store_backend.py\u001b[0m in \u001b[0;36m_set\u001b[0;34m(self, key, value, **kwargs)\u001b[0m\n\u001b[1;32m    317\u001b[0m         \u001b[0mpath\u001b[0m\u001b[0;34m,\u001b[0m \u001b[0mfilename\u001b[0m \u001b[0;34m=\u001b[0m \u001b[0mos\u001b[0m\u001b[0;34m.\u001b[0m\u001b[0mpath\u001b[0m\u001b[0;34m.\u001b[0m\u001b[0msplit\u001b[0m\u001b[0;34m(\u001b[0m\u001b[0mfilepath\u001b[0m\u001b[0;34m)\u001b[0m\u001b[0;34m\u001b[0m\u001b[0;34m\u001b[0m\u001b[0m\n\u001b[1;32m    318\u001b[0m \u001b[0;34m\u001b[0m\u001b[0m\n\u001b[0;32m--> 319\u001b[0;31m         \u001b[0mos\u001b[0m\u001b[0;34m.\u001b[0m\u001b[0mmakedirs\u001b[0m\u001b[0;34m(\u001b[0m\u001b[0mstr\u001b[0m\u001b[0;34m(\u001b[0m\u001b[0mpath\u001b[0m\u001b[0;34m)\u001b[0m\u001b[0;34m,\u001b[0m \u001b[0mexist_ok\u001b[0m\u001b[0;34m=\u001b[0m\u001b[0;32mTrue\u001b[0m\u001b[0;34m)\u001b[0m\u001b[0;34m\u001b[0m\u001b[0;34m\u001b[0m\u001b[0m\n\u001b[0m\u001b[1;32m    320\u001b[0m         \u001b[0;32mwith\u001b[0m \u001b[0mopen\u001b[0m\u001b[0;34m(\u001b[0m\u001b[0mfilepath\u001b[0m\u001b[0;34m,\u001b[0m \u001b[0;34m\"wb\"\u001b[0m\u001b[0;34m)\u001b[0m \u001b[0;32mas\u001b[0m \u001b[0moutfile\u001b[0m\u001b[0;34m:\u001b[0m\u001b[0;34m\u001b[0m\u001b[0;34m\u001b[0m\u001b[0m\n\u001b[1;32m    321\u001b[0m             \u001b[0;32mif\u001b[0m \u001b[0misinstance\u001b[0m\u001b[0;34m(\u001b[0m\u001b[0mvalue\u001b[0m\u001b[0;34m,\u001b[0m \u001b[0mstr\u001b[0m\u001b[0;34m)\u001b[0m\u001b[0;34m:\u001b[0m\u001b[0;34m\u001b[0m\u001b[0;34m\u001b[0m\u001b[0m\n",
      "\u001b[0;32m~/anaconda3/envs/emia2021/lib/python3.7/os.py\u001b[0m in \u001b[0;36mmakedirs\u001b[0;34m(name, mode, exist_ok)\u001b[0m\n\u001b[1;32m    221\u001b[0m             \u001b[0;32mreturn\u001b[0m\u001b[0;34m\u001b[0m\u001b[0;34m\u001b[0m\u001b[0m\n\u001b[1;32m    222\u001b[0m     \u001b[0;32mtry\u001b[0m\u001b[0;34m:\u001b[0m\u001b[0;34m\u001b[0m\u001b[0;34m\u001b[0m\u001b[0m\n\u001b[0;32m--> 223\u001b[0;31m         \u001b[0mmkdir\u001b[0m\u001b[0;34m(\u001b[0m\u001b[0mname\u001b[0m\u001b[0;34m,\u001b[0m \u001b[0mmode\u001b[0m\u001b[0;34m)\u001b[0m\u001b[0;34m\u001b[0m\u001b[0;34m\u001b[0m\u001b[0m\n\u001b[0m\u001b[1;32m    224\u001b[0m     \u001b[0;32mexcept\u001b[0m \u001b[0mOSError\u001b[0m\u001b[0;34m:\u001b[0m\u001b[0;34m\u001b[0m\u001b[0;34m\u001b[0m\u001b[0m\n\u001b[1;32m    225\u001b[0m         \u001b[0;31m# Cannot rely on checking for EEXIST, since the operating system\u001b[0m\u001b[0;34m\u001b[0m\u001b[0;34m\u001b[0m\u001b[0;34m\u001b[0m\u001b[0m\n",

     ]
    }
   ],
   "source": [
    "import datetime\n",
    "import great_expectations as ge\n",
    "import great_expectations.jupyter_ux\n",
    "from great_expectations.checkpoint import LegacyCheckpoint\n",
    "from great_expectations.data_context.types.resource_identifiers import ValidationResultIdentifier\n",
    "\n",
    "context = ge.data_context.DataContext()\n",
    "\n",
    "# Feel free to change the name of your suite here. Renaming this will not\n",
    "# remove the other one.\n",
    "expectation_suite_name = \"refined_data.warning\"\n",
    "suite = context.create_expectation_suite(\n",
    "    expectation_suite_name, overwrite_existing=True\n",
    ")\n",
    "\n",
    "# change the path to the reference data in refined\n",
    "batch_kwargs = {'data_asset_name': 'train_data', 'datasource': 'refined__dir', 'path': '/emia2021/data/refined/2020_01_06.csv'}\n",
    "batch = context.get_batch(batch_kwargs, suite)\n",
    "batch.head()"
   ]
  },
  {
   "cell_type": "markdown",
   "id": "33d5e3c6",
   "metadata": {},
   "source": [
    "## Create & Edit Expectations\n",
    "\n",
    "Add expectations by calling specific expectation methods on the `batch` object. They all begin with `.expect_` which makes autocompleting easy using tab.\n",
    "\n",
    "You can see all the available expectations in the **[expectation glossary](https://docs.greatexpectations.io/en/latest/reference/glossary_of_expectations.html?utm_source=notebook&utm_medium=create_expectations)**."
   ]
  },
  {
   "cell_type": "markdown",
   "id": "58801713",
   "metadata": {},
   "source": [
    "### Table Expectation(s)"
   ]
  },
  {
   "cell_type": "code",
   "execution_count": 4,
   "id": "8947f5cb",
   "metadata": {},
   "outputs": [
    {
     "ename": "NameError",
     "evalue": "name 'batch' is not defined",
     "output_type": "error",
     "traceback": [
      "\u001b[0;31m---------------------------------------------------------------------------\u001b[0m",
      "\u001b[0;31mNameError\u001b[0m                                 Traceback (most recent call last)",
      "\u001b[0;32m/tmp/ipykernel_12550/3283481446.py\u001b[0m in \u001b[0;36m<module>\u001b[0;34m\u001b[0m\n\u001b[0;32m----> 1\u001b[0;31m \u001b[0mbatch\u001b[0m\u001b[0;34m.\u001b[0m\u001b[0mexpect_table_row_count_to_be_between\u001b[0m\u001b[0;34m(\u001b[0m\u001b[0mmax_value\u001b[0m\u001b[0;34m=\u001b[0m\u001b[0;36m99999\u001b[0m\u001b[0;34m,\u001b[0m \u001b[0mmin_value\u001b[0m\u001b[0;34m=\u001b[0m\u001b[0;36m200\u001b[0m\u001b[0;34m)\u001b[0m\u001b[0;34m\u001b[0m\u001b[0;34m\u001b[0m\u001b[0m\n\u001b[0m",
      "\u001b[0;31mNameError\u001b[0m: name 'batch' is not defined"
     ]
    }
   ],
   "source": [
    "batch.expect_table_row_count_to_be_between(max_value=99999, min_value=200)"
   ]
  },
  {
   "cell_type": "code",
   "execution_count": 6,
   "id": "6f8f563f",
   "metadata": {},
   "outputs": [
    {
     "data": {
      "text/plain": [
       "{\n",
       "  \"meta\": {},\n",
       "  \"result\": {\n",
       "    \"observed_value\": 5\n",
       "  },\n",
       "  \"exception_info\": {\n",
       "    \"raised_exception\": false,\n",
       "    \"exception_traceback\": null,\n",
       "    \"exception_message\": null\n",
       "  },\n",
       "  \"success\": true\n",
       "}"
      ]
     },
     "execution_count": 6,
     "metadata": {},
     "output_type": "execute_result"
    }
   ],
   "source": [
    "batch.expect_table_column_count_to_equal(value=5)"
   ]
  },
  {
   "cell_type": "code",
   "execution_count": 7,
   "id": "df205b4e",
   "metadata": {},
   "outputs": [
    {
     "data": {
      "text/plain": [
       "{\n",
       "  \"meta\": {},\n",
       "  \"result\": {\n",
       "    \"observed_value\": [\n",
       "      \"t\",\n",
       "      \"u\",\n",
       "      \"pres\",\n",
       "      \"tend24\",\n",
       "      \"consumption\"\n",
       "    ]\n",
       "  },\n",
       "  \"exception_info\": {\n",
       "    \"raised_exception\": false,\n",
       "    \"exception_traceback\": null,\n",
       "    \"exception_message\": null\n",
       "  },\n",
       "  \"success\": true\n",
       "}"
      ]
     },
     "execution_count": 7,
     "metadata": {},
     "output_type": "execute_result"
    }
   ],
   "source": [
    "batch.expect_table_columns_to_match_ordered_list(column_list=['t', 'u', 'pres', 'tend24', 'consumption'])"
   ]
  },
  {
   "cell_type": "markdown",
   "id": "9c1234b9",
   "metadata": {},
   "source": [
    "### Column Expectation(s)"
   ]
  },
  {
   "cell_type": "markdown",
   "id": "9d1f3c4a",
   "metadata": {},
   "source": [
    "#### `t`"
   ]
  },
  {
   "cell_type": "code",
   "execution_count": 8,
   "id": "fafa1caf",
   "metadata": {},
   "outputs": [
    {
     "data": {
      "text/plain": [
       "{\n",
       "  \"meta\": {},\n",
       "  \"result\": {\n",
       "    \"element_count\": 542,\n",
       "    \"unexpected_count\": 0,\n",
       "    \"unexpected_percent\": 0.0,\n",
       "    \"unexpected_percent_total\": 0.0,\n",
       "    \"partial_unexpected_list\": []\n",
       "  },\n",
       "  \"exception_info\": {\n",
       "    \"raised_exception\": false,\n",
       "    \"exception_traceback\": null,\n",
       "    \"exception_message\": null\n",
       "  },\n",
       "  \"success\": true\n",
       "}"
      ]
     },
     "execution_count": 8,
     "metadata": {},
     "output_type": "execute_result"
    }
   ],
   "source": [
    "batch.expect_column_values_to_not_be_null(column='t')"
   ]
  },
  {
   "cell_type": "code",
   "execution_count": 9,
   "id": "2bf8f9ec",
   "metadata": {},
   "outputs": [
    {
     "data": {
      "text/plain": [
       "{\n",
       "  \"meta\": {},\n",
       "  \"result\": {\n",
       "    \"observed_value\": 274,\n",
       "    \"element_count\": 542,\n",
       "    \"missing_count\": null,\n",
       "    \"missing_percent\": null\n",
       "  },\n",
       "  \"exception_info\": {\n",
       "    \"raised_exception\": false,\n",
       "    \"exception_traceback\": null,\n",
       "    \"exception_message\": null\n",
       "  },\n",
       "  \"success\": true\n",
       "}"
      ]
     },
     "execution_count": 9,
     "metadata": {},
     "output_type": "execute_result"
    }
   ],
   "source": [
    "batch.expect_column_min_to_be_between(column='t', max_value=276, min_value=273)"
   ]
  },
  {
   "cell_type": "code",
   "execution_count": 10,
   "id": "2022498e",
   "metadata": {},
   "outputs": [
    {
     "data": {
      "text/plain": [
       "{\n",
       "  \"meta\": {},\n",
       "  \"result\": {\n",
       "    \"observed_value\": 301,\n",
       "    \"element_count\": 542,\n",
       "    \"missing_count\": null,\n",
       "    \"missing_percent\": null\n",
       "  },\n",
       "  \"exception_info\": {\n",
       "    \"raised_exception\": false,\n",
       "    \"exception_traceback\": null,\n",
       "    \"exception_message\": null\n",
       "  },\n",
       "  \"success\": true\n",
       "}"
      ]
     },
     "execution_count": 10,
     "metadata": {},
     "output_type": "execute_result"
    }
   ],
   "source": [
    "batch.expect_column_max_to_be_between(column='t', max_value=306, min_value=300)"
   ]
  },
  {
   "cell_type": "code",
   "execution_count": 11,
   "id": "98f05dc3",
   "metadata": {},
   "outputs": [
    {
     "data": {
      "text/plain": [
       "{\n",
       "  \"meta\": {},\n",
       "  \"result\": {\n",
       "    \"observed_value\": 285.65682656826567,\n",
       "    \"element_count\": 542,\n",
       "    \"missing_count\": null,\n",
       "    \"missing_percent\": null\n",
       "  },\n",
       "  \"exception_info\": {\n",
       "    \"raised_exception\": false,\n",
       "    \"exception_traceback\": null,\n",
       "    \"exception_message\": null\n",
       "  },\n",
       "  \"success\": true\n",
       "}"
      ]
     },
     "execution_count": 11,
     "metadata": {},
     "output_type": "execute_result"
    }
   ],
   "source": [
    "batch.expect_column_mean_to_be_between(column='t', max_value=287.0, min_value=284.0)"
   ]
  },
  {
   "cell_type": "code",
   "execution_count": 12,
   "id": "fc139cd7",
   "metadata": {},
   "outputs": [
    {
     "data": {
      "text/plain": [
       "{\n",
       "  \"meta\": {},\n",
       "  \"result\": {\n",
       "    \"observed_value\": 285.0,\n",
       "    \"element_count\": 542,\n",
       "    \"missing_count\": null,\n",
       "    \"missing_percent\": null\n",
       "  },\n",
       "  \"exception_info\": {\n",
       "    \"raised_exception\": false,\n",
       "    \"exception_traceback\": null,\n",
       "    \"exception_message\": null\n",
       "  },\n",
       "  \"success\": true\n",
       "}"
      ]
     },
     "execution_count": 12,
     "metadata": {},
     "output_type": "execute_result"
    }
   ],
   "source": [
    "batch.expect_column_median_to_be_between(column='t', max_value=287.0, min_value=284.0)"
   ]
  },
  {
   "cell_type": "code",
   "execution_count": 13,
   "id": "9427afa8",
   "metadata": {},
   "outputs": [
    {
     "data": {
      "text/plain": [
       "{\n",
       "  \"meta\": {},\n",
       "  \"result\": {\n",
       "    \"observed_value\": {\n",
       "      \"quantiles\": [\n",
       "        0.05,\n",
       "        0.25,\n",
       "        0.5,\n",
       "        0.75,\n",
       "        0.95\n",
       "      ],\n",
       "      \"values\": [\n",
       "        277,\n",
       "        281,\n",
       "        285,\n",
       "        290,\n",
       "        296\n",
       "      ]\n",
       "    },\n",
       "    \"element_count\": 542,\n",
       "    \"missing_count\": null,\n",
       "    \"missing_percent\": null\n",
       "  },\n",
       "  \"exception_info\": {\n",
       "    \"raised_exception\": false,\n",
       "    \"exception_traceback\": null,\n",
       "    \"exception_message\": null\n",
       "  },\n",
       "  \"success\": true\n",
       "}"
      ]
     },
     "execution_count": 13,
     "metadata": {},
     "output_type": "execute_result"
    }
   ],
   "source": [
    "batch.expect_column_quantile_values_to_be_between(column='t', allow_relative_error=False, quantile_ranges={'quantiles': [0.05, 0.25, 0.5, 0.75, 0.95], 'value_ranges': [[276, 278], [280, 282], [284, 286], [289, 291], [295, 297]]})"
   ]
  },
  {
   "cell_type": "markdown",
   "id": "d8255dfe",
   "metadata": {},
   "source": [
    "#### `u`"
   ]
  },
  {
   "cell_type": "code",
   "execution_count": 14,
   "id": "6477f84d",
   "metadata": {},
   "outputs": [
    {
     "data": {
      "text/plain": [
       "{\n",
       "  \"meta\": {},\n",
       "  \"result\": {\n",
       "    \"element_count\": 542,\n",
       "    \"unexpected_count\": 0,\n",
       "    \"unexpected_percent\": 0.0,\n",
       "    \"unexpected_percent_total\": 0.0,\n",
       "    \"partial_unexpected_list\": []\n",
       "  },\n",
       "  \"exception_info\": {\n",
       "    \"raised_exception\": false,\n",
       "    \"exception_traceback\": null,\n",
       "    \"exception_message\": null\n",
       "  },\n",
       "  \"success\": true\n",
       "}"
      ]
     },
     "execution_count": 14,
     "metadata": {},
     "output_type": "execute_result"
    }
   ],
   "source": [
    "batch.expect_column_values_to_not_be_null(column='u')"
   ]
  },
  {
   "cell_type": "code",
   "execution_count": 15,
   "id": "e64e9799",
   "metadata": {},
   "outputs": [
    {
     "data": {
      "text/plain": [
       "{\n",
       "  \"meta\": {},\n",
       "  \"result\": {\n",
       "    \"element_count\": 542,\n",
       "    \"missing_count\": 0,\n",
       "    \"missing_percent\": 0.0,\n",
       "    \"unexpected_count\": 0,\n",
       "    \"unexpected_percent\": 0.0,\n",
       "    \"unexpected_percent_total\": 0.0,\n",
       "    \"unexpected_percent_nonmissing\": 0.0,\n",
       "    \"partial_unexpected_list\": []\n",
       "  },\n",
       "  \"exception_info\": {\n",
       "    \"raised_exception\": false,\n",
       "    \"exception_traceback\": null,\n",
       "    \"exception_message\": null\n",
       "  },\n",
       "  \"success\": true\n",
       "}"
      ]
     },
     "execution_count": 15,
     "metadata": {},
     "output_type": "execute_result"
    }
   ],
   "source": [
    "batch.expect_column_values_to_be_between(column='u', max_value=94, min_value=36)"
   ]
  },
  {
   "cell_type": "code",
   "execution_count": 16,
   "id": "df1a879b",
   "metadata": {},
   "outputs": [
    {
     "data": {
      "text/plain": [
       "{\n",
       "  \"meta\": {},\n",
       "  \"result\": {\n",
       "    \"observed_value\": 68.9649446494465,\n",
       "    \"element_count\": 542,\n",
       "    \"missing_count\": null,\n",
       "    \"missing_percent\": null\n",
       "  },\n",
       "  \"exception_info\": {\n",
       "    \"raised_exception\": false,\n",
       "    \"exception_traceback\": null,\n",
       "    \"exception_message\": null\n",
       "  },\n",
       "  \"success\": true\n",
       "}"
      ]
     },
     "execution_count": 16,
     "metadata": {},
     "output_type": "execute_result"
    }
   ],
   "source": [
    "batch.expect_column_mean_to_be_between(column='u', max_value=75, min_value=65)"
   ]
  },
  {
   "cell_type": "markdown",
   "id": "a2320787",
   "metadata": {},
   "source": [
    "#### `pres`"
   ]
  },
  {
   "cell_type": "code",
   "execution_count": 17,
   "id": "189e9915",
   "metadata": {},
   "outputs": [
    {
     "data": {
      "text/plain": [
       "{\n",
       "  \"meta\": {},\n",
       "  \"result\": {\n",
       "    \"element_count\": 542,\n",
       "    \"unexpected_count\": 0,\n",
       "    \"unexpected_percent\": 0.0,\n",
       "    \"unexpected_percent_total\": 0.0,\n",
       "    \"partial_unexpected_list\": []\n",
       "  },\n",
       "  \"exception_info\": {\n",
       "    \"raised_exception\": false,\n",
       "    \"exception_traceback\": null,\n",
       "    \"exception_message\": null\n",
       "  },\n",
       "  \"success\": true\n",
       "}"
      ]
     },
     "execution_count": 17,
     "metadata": {},
     "output_type": "execute_result"
    }
   ],
   "source": [
    "batch.expect_column_values_to_not_be_null(column='pres')"
   ]
  },
  {
   "cell_type": "code",
   "execution_count": 18,
   "id": "5fab82f9",
   "metadata": {},
   "outputs": [
    {
     "data": {
      "text/plain": [
       "{\n",
       "  \"meta\": {},\n",
       "  \"result\": {\n",
       "    \"element_count\": 542,\n",
       "    \"missing_count\": 0,\n",
       "    \"missing_percent\": 0.0,\n",
       "    \"unexpected_count\": 0,\n",
       "    \"unexpected_percent\": 0.0,\n",
       "    \"unexpected_percent_total\": 0.0,\n",
       "    \"unexpected_percent_nonmissing\": 0.0,\n",
       "    \"partial_unexpected_list\": []\n",
       "  },\n",
       "  \"exception_info\": {\n",
       "    \"raised_exception\": false,\n",
       "    \"exception_traceback\": null,\n",
       "    \"exception_message\": null\n",
       "  },\n",
       "  \"success\": true\n",
       "}"
      ]
     },
     "execution_count": 18,
     "metadata": {},
     "output_type": "execute_result"
    }
   ],
   "source": [
    "batch.expect_column_values_to_be_between(column='pres', max_value=103000, min_value=97000)"
   ]
  },
  {
   "cell_type": "code",
   "execution_count": 19,
   "id": "86959d70",
   "metadata": {},
   "outputs": [
    {
     "data": {
      "text/plain": [
       "{\n",
       "  \"meta\": {},\n",
       "  \"result\": {\n",
       "    \"observed_value\": 100457.47601476015,\n",
       "    \"element_count\": 542,\n",
       "    \"missing_count\": null,\n",
       "    \"missing_percent\": null\n",
       "  },\n",
       "  \"exception_info\": {\n",
       "    \"raised_exception\": false,\n",
       "    \"exception_traceback\": null,\n",
       "    \"exception_message\": null\n",
       "  },\n",
       "  \"success\": true\n",
       "}"
      ]
     },
     "execution_count": 19,
     "metadata": {},
     "output_type": "execute_result"
    }
   ],
   "source": [
    "batch.expect_column_mean_to_be_between(column='pres', max_value=101000, min_value=100000)"
   ]
  },
  {
   "cell_type": "markdown",
   "id": "1c4aabf6",
   "metadata": {},
   "source": [
    "## Save & Review Your Expectations\n",
    "\n",
    "Let's save the expectation suite as a JSON file in the `great_expectations/expectations` directory of your project.\n",
    "If you decide not to save some expectations that you created, use [remove_expectation method](https://docs.greatexpectations.io/en/latest/autoapi/great_expectations/data_asset/index.html?highlight=remove_expectation&utm_source=notebook&utm_medium=edit_expectations#great_expectations.data_asset.DataAsset.remove_expectation).\n",
    "\n",
    "Let's now rebuild your Data Docs, which helps you communicate about your data with both machines and humans."
   ]
  },
  {
   "cell_type": "code",
   "execution_count": 20,
   "id": "558ad5b7",
   "metadata": {},
   "outputs": [
    {
     "name": "stdout",
     "output_type": "stream",
     "text": [
      "2021-03-31T14:51:00+0200 - INFO - \t15 expectation(s) included in expectation_suite. result_format settings filtered.\n"
     ]
    }
   ],
   "source": [
    "batch.save_expectation_suite(discard_failed_expectations=False)"
   ]
  },
  {
   "cell_type": "code",
   "execution_count": 21,
   "id": "c1cc2690",
   "metadata": {},
   "outputs": [],
   "source": [
    "context.build_data_docs()\n",
    "context.open_data_docs()"
   ]
  },
  {
   "cell_type": "markdown",
   "id": "f49afe12",
   "metadata": {},
   "source": [
    "# Launch a validation on your data"
   ]
  },
  {
   "cell_type": "code",
   "execution_count": 22,
   "id": "71119b47",
   "metadata": {},
   "outputs": [
    {
     "name": "stdout",
     "output_type": "stream",
     "text": [
      "2021-03-31T14:51:37+0200 - INFO - Setting run_name to: 20210331T125137.587266Z\n",
      "2021-03-31T14:51:37+0200 - INFO - \t15 expectation(s) included in expectation_suite.\n"
     ]
    }
   ],
   "source": [
    "results = LegacyCheckpoint(\n",
    "    name=\"_temp_checkpoint\",\n",
    "    data_context=context,\n",
    "    batches=[\n",
    "        {\n",
    "          \"batch_kwargs\": batch_kwargs,\n",
    "          \"expectation_suite_names\": [expectation_suite_name]\n",
    "        }\n",
    "    ]\n",
    ").run()\n",
    "validation_result_identifier = results.list_validation_result_identifiers()[0]"
   ]
  },
  {
   "cell_type": "code",
   "execution_count": null,
   "id": "8c43ac3b",
   "metadata": {},
   "outputs": [],
   "source": []
  }
 ],
 "metadata": {
  "kernelspec": {
   "display_name": "Python [conda env:emia2021]",
   "language": "python",
   "name": "conda-env-emia2021-py"
  },
  "language_info": {
   "codemirror_mode": {
    "name": "ipython",
    "version": 3
   },
   "file_extension": ".py",
   "mimetype": "text/x-python",
   "name": "python",
   "nbconvert_exporter": "python",
   "pygments_lexer": "ipython3",
   "version": "3.7.11"
  }
 },
 "nbformat": 4,
 "nbformat_minor": 5
}
